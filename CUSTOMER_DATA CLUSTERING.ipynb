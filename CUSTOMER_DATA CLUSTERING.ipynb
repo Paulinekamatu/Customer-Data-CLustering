{
 "cells": [
  {
   "cell_type": "code",
   "execution_count": 2,
   "id": "7d0221eb-e121-4567-8394-7915bf95db5e",
   "metadata": {},
   "outputs": [
    {
     "name": "stdout",
     "output_type": "stream",
     "text": [
      "             ID  Sex  Marital status  Age  Education  Income  Occupation  \\\n",
      "0     100000001    0               0   67          2  124670           1   \n",
      "1     100000002    1               1   22          1  150773           1   \n",
      "2     100000003    0               0   49          1   89210           0   \n",
      "3     100000004    0               0   45          1  171565           1   \n",
      "4     100000005    0               0   53          1  149031           1   \n",
      "...         ...  ...             ...  ...        ...     ...         ...   \n",
      "1995  100001996    1               0   47          1  123525           0   \n",
      "1996  100001997    1               1   27          1  117744           1   \n",
      "1997  100001998    0               0   31          0   86400           0   \n",
      "1998  100001999    1               1   24          1   97968           0   \n",
      "1999  100002000    0               0   25          0   68416           0   \n",
      "\n",
      "      Settlement size  \n",
      "0                   2  \n",
      "1                   2  \n",
      "2                   0  \n",
      "3                   1  \n",
      "4                   1  \n",
      "...               ...  \n",
      "1995                0  \n",
      "1996                0  \n",
      "1997                0  \n",
      "1998                0  \n",
      "1999                0  \n",
      "\n",
      "[2000 rows x 8 columns]\n"
     ]
    }
   ],
   "source": [
    "\n",
    "#You are owing a supermarket mall and through membership cards,\n",
    "#you have some basic data about your customers like Customer ID, age,, annual income and spending score.\n",
    "#You want to understand the customers like who are the target customers\n",
    "#here is the dataset\n",
    "\n",
    "import pandas as pd\n",
    "customer=pd.read_csv(\"customer.csv\")\n",
    "print(customer)\n"
   ]
  },
  {
   "cell_type": "code",
   "execution_count": 3,
   "id": "5234ea31-887d-4eab-9a94-352a73461131",
   "metadata": {},
   "outputs": [
    {
     "name": "stdout",
     "output_type": "stream",
     "text": [
      "             ID  Sex  Marital status  Age  Education  Income  Occupation  \\\n",
      "0     100000001    0               0   67          2  124670           1   \n",
      "1     100000002    1               1   22          1  150773           1   \n",
      "2     100000003    0               0   49          1   89210           0   \n",
      "3     100000004    0               0   45          1  171565           1   \n",
      "4     100000005    0               0   53          1  149031           1   \n",
      "...         ...  ...             ...  ...        ...     ...         ...   \n",
      "1995  100001996    1               0   47          1  123525           0   \n",
      "1996  100001997    1               1   27          1  117744           1   \n",
      "1997  100001998    0               0   31          0   86400           0   \n",
      "1998  100001999    1               1   24          1   97968           0   \n",
      "1999  100002000    0               0   25          0   68416           0   \n",
      "\n",
      "      Settlement size  \n",
      "0                   2  \n",
      "1                   2  \n",
      "2                   0  \n",
      "3                   1  \n",
      "4                   1  \n",
      "...               ...  \n",
      "1995                0  \n",
      "1996                0  \n",
      "1997                0  \n",
      "1998                0  \n",
      "1999                0  \n",
      "\n",
      "[2000 rows x 8 columns]\n"
     ]
    }
   ],
   "source": [
    "#cleaning the dataset for any missing values\n",
    "\n",
    "import pandas as pd\n",
    "cleaning=pd.read_csv('customer.csv')\n",
    "customer=cleaning.dropna()\n",
    "print(customer)"
   ]
  },
  {
   "cell_type": "code",
   "execution_count": 4,
   "id": "ee20be58-37b8-4159-b353-d4446646d84d",
   "metadata": {},
   "outputs": [
    {
     "name": "stdout",
     "output_type": "stream",
     "text": [
      "0       False\n",
      "1       False\n",
      "2       False\n",
      "3       False\n",
      "4       False\n",
      "        ...  \n",
      "1995    False\n",
      "1996    False\n",
      "1997    False\n",
      "1998    False\n",
      "1999    False\n",
      "Length: 2000, dtype: bool\n"
     ]
    }
   ],
   "source": [
    "#cleaning the data set for any duplicated rows\n",
    "print(cleaning.duplicated())"
   ]
  },
  {
   "cell_type": "code",
   "execution_count": 8,
   "id": "688fd5fa-ef5d-4680-87b3-abc5b339a87c",
   "metadata": {},
   "outputs": [
    {
     "name": "stdout",
     "output_type": "stream",
     "text": [
      "encoded customer dataset is\n",
      "        ID  Sex  Marital status  Age  Education  Income  Occupation  \\\n",
      "0        0    0               0   49          2    1224           1   \n",
      "1        1    1               1    4          1    1638           1   \n",
      "2        2    0               0   31          1     347           0   \n",
      "3        3    0               0   27          1    1814           1   \n",
      "4        4    0               0   35          1    1618           1   \n",
      "...    ...  ...             ...  ...        ...     ...         ...   \n",
      "1995  1995    1               0   29          1    1191           0   \n",
      "1996  1996    1               1    9          1    1048           1   \n",
      "1997  1997    0               0   13          0     305           0   \n",
      "1998  1998    1               1    6          1     508           0   \n",
      "1999  1999    0               0    7          0     104           0   \n",
      "\n",
      "      Settlement size  \n",
      "0                   2  \n",
      "1                   2  \n",
      "2                   0  \n",
      "3                   1  \n",
      "4                   1  \n",
      "...               ...  \n",
      "1995                0  \n",
      "1996                0  \n",
      "1997                0  \n",
      "1998                0  \n",
      "1999                0  \n",
      "\n",
      "[2000 rows x 8 columns]\n"
     ]
    }
   ],
   "source": [
    "#transforming the data\n",
    "#data labelling\n",
    "import pandas as pd\n",
    "from sklearn import preprocessing\n",
    "customer=pd.read_csv('customer.csv')\n",
    "encoder=preprocessing.LabelEncoder()\n",
    "encoded_customer=customer.apply(preprocessing.LabelEncoder().fit_transform)\n",
    "print('encoded customer dataset is')\n",
    "print(encoded_customer)\n",
    "\n"
   ]
  },
  {
   "cell_type": "code",
   "execution_count": 10,
   "id": "573d71b9-c1ac-4b51-9241-41025e3bfcb5",
   "metadata": {},
   "outputs": [
    {
     "name": "stdout",
     "output_type": "stream",
     "text": [
      "[[   0    0    0 ... 1224    1    2]\n",
      " [   1    1    1 ... 1638    1    2]\n",
      " [   2    0    0 ...  347    0    0]\n",
      " ...\n",
      " [1997    0    0 ...  305    0    0]\n",
      " [1998    1    1 ...  508    0    0]\n",
      " [1999    0    0 ...  104    0    0]]\n"
     ]
    }
   ],
   "source": [
    "# numeric attributes from the data set together\n",
    "numericarray=encoded_customer.values\n",
    "print(numericarray)\n"
   ]
  },
  {
   "cell_type": "code",
   "execution_count": 15,
   "id": "cabcffd2-87b1-448a-8663-15e9a1fe1c52",
   "metadata": {},
   "outputs": [
    {
     "name": "stdout",
     "output_type": "stream",
     "text": [
      "training sample is\n",
      "[[   0    0    0 ... 1224    1    2]\n",
      " [   1    1    1 ... 1638    1    2]\n",
      " [   2    0    0 ...  347    0    0]\n",
      " ...\n",
      " [ 997    0    0 ...  511    1    2]\n",
      " [ 998    0    0 ...  468    1    0]\n",
      " [ 999    0    0 ... 1610    1    1]]\n",
      "testing sample is\n",
      "[[   0    0    0 ... 1224    1    2]\n",
      " [   1    1    1 ... 1638    1    2]\n",
      " [   2    0    0 ...  347    0    0]\n",
      " ...\n",
      " [ 997    0    0 ...  511    1    2]\n",
      " [ 998    0    0 ...  468    1    0]\n",
      " [ 999    0    0 ... 1610    1    1]]\n"
     ]
    }
   ],
   "source": [
    "#slicing the numeric array into training and testing samples\n",
    "split=1000\n",
    "trainingsample,testingsample=numericarray[:split,:],numericarray[:split:,:]\n",
    "print('training sample is')\n",
    "print (trainingsample)\n",
    "print ('testing sample is')\n",
    "print(testingsample)"
   ]
  },
  {
   "cell_type": "code",
   "execution_count": 19,
   "id": "e65eb74d-1d96-4e52-a950-dd947227a4ee",
   "metadata": {},
   "outputs": [
    {
     "name": "stdout",
     "output_type": "stream",
     "text": [
      "input attributes\n",
      "[[   0    0    0 ...    2 1224    1]\n",
      " [   1    1    1 ...    1 1638    1]\n",
      " [   2    0    0 ...    1  347    0]\n",
      " ...\n",
      " [ 997    0    0 ...    1  511    1]\n",
      " [ 998    0    0 ...    0  468    1]\n",
      " [ 999    0    0 ...    0 1610    1]]\n",
      "output attributes\n",
      "[2 2 0 1 1 0 1 1 0 0 0 0 2 0 1 0 0 2 2 1 1 1 0 2 2 0 0 1 1 0 1 1 2 0 1 0 2\n",
      " 1 1 1 1 0 0 1 1 1 0 0 0 0 0 2 2 0 1 0 2 1 1 0 2 1 1 2 1 1 0 0 2 2 1 0 2 0\n",
      " 2 2 1 2 0 1 2 1 0 0 0 1 2 1 2 2 1 1 0 1 2 1 1 2 1 2 0 0 1 1 1 2 2 2 0 0 1\n",
      " 1 2 0 1 1 0 2 1 1 2 2 0 0 2 1 0 2 2 0 2 2 0 1 0 2 2 0 1 0 0 1 2 1 2 1 0 0\n",
      " 1 2 0 2 1 2 2 1 1 0 2 0 1 1 2 2 2 1 2 2 1 2 0 1 2 0 1 0 0 2 1 0 2 1 0 2 1\n",
      " 1 1 0 0 1 2 0 2 1 2 2 0 0 2 1 0 0 1 1 0 2 0 2 0 2 2 0 1 0 0 0 2 1 0 0 0 1\n",
      " 2 1 1 1 1 1 1 2 2 0 0 0 0 0 2 0 1 1 0 1 1 0 0 2 2 0 1 2 0 0 1 2 1 0 0 2 1\n",
      " 0 1 2 1 0 0 0 0 0 2 1 2 1 2 1 0 1 0 0 2 2 1 1 0 2 2 1 2 2 1 1 0 1 1 1 1 2\n",
      " 2 0 1 2 0 1 0 0 0 1 0 0 2 0 0 0 1 0 0 2 0 0 2 0 0 0 0 0 2 0 2 2 1 2 1 0 1\n",
      " 0 1 1 0 2 2 0 1 0 2 1 0 0 2 0 0 1 0 2 1 1 2 0 2 2 0 2 2 0 1 2 0 0 1 2 1 2\n",
      " 1 1 0 2 2 1 0 1 1 0 2 2 0 2 0 0 1 1 2 1 2 0 1 2 2 2 2 0 0 0 2 1 1 0 0 0 1\n",
      " 2 0 2 1 2 0 0 1 2 0 1 1 1 2 1 0 2 2 2 0 2 1 0 0 2 2 0 2 0 0 1 0 0 1 1 2 0\n",
      " 2 0 1 0 2 1 2 1 1 2 2 2 1 0 2 2 2 1 0 2 2 1 0 1 1 0 0 2 0 2 0 2 0 2 0 1 0\n",
      " 0 1 0 2 2 2 2 0 1 1 2 0 0 0 2 2 0 0 0 1 1 2 0 0 0 2 2 2 2 2 2 2 0 0 0 0 1\n",
      " 2 2 2 1 1 1 0 2 0 0 1 0 0 1 0 1 2 1 1 1 2 0 1 0 0 1 0 1 2 2 0 1 1 0 0 2 0\n",
      " 0 2 2 0 0 1 0 0 1 2 0 0 1 0 1 0 0 0 0 0 1 0 2 1 0 1 0 1 0 1 2 0 0 0 1 0 2\n",
      " 0 0 2 0 1 0 0 2 0 2 0 2 1 1 1 2 2 0 1 0 2 2 0 1 2 0 0 0 1 2 2 2 1 1 2 1 1\n",
      " 0 2 2 1 0 0 0 2 1 1 0 0 0 2 1 1 2 2 2 1 0 2 0 1 2 0 2 0 1 1 2 1 1 1 2 0 2\n",
      " 1 1 0 0 0 1 1 2 1 1 2 0 0 2 1 1 2 1 0 1 1 2 1 2 2 0 1 0 1 0 0 0 1 1 0 0 0\n",
      " 1 2 1 1 1 1 0 2 2 1 0 2 1 2 2 2 1 1 2 0 0 2 0 0 1 1 2 1 0 0 2 0 0 2 0 2 0\n",
      " 1 0 1 2 1 0 1 0 0 1 2 0 0 2 1 1 0 1 0 1 1 2 0 2 2 0 0 0 2 0 0 2 2 2 0 0 2\n",
      " 1 1 1 1 2 0 0 0 0 0 1 1 1 2 2 0 2 2 0 1 0 1 0 2 0 0 0 0 2 0 2 2 0 2 0 1 2\n",
      " 2 0 1 1 2 2 0 2 0 0 1 0 0 2 2 1 1 2 2 0 0 1 0 0 0 2 0 0 2 0 2 0 2 1 0 0 2\n",
      " 0 0 0 1 2 2 0 2 2 1 0 2 0 0 2 2 2 2 0 2 2 2 2 2 1 2 1 1 0 2 0 1 0 1 1 1 1\n",
      " 2 0 2 1 0 2 2 2 1 0 0 2 2 0 2 1 1 2 0 0 0 0 1 0 1 2 0 1 0 2 2 2 1 1 2 1 0\n",
      " 1 2 2 0 0 0 0 2 2 0 1 0 0 1 2 2 0 2 0 0 0 2 1 0 1 0 2 0 1 2 1 0 0 0 2 1 1\n",
      " 2 0 0 2 0 2 2 0 2 0 0 1 0 0 0 2 0 2 1 2 2 1 0 2 1 0 1 0 0 0 0 2 1 0 1 2 0\n",
      " 1]\n"
     ]
    }
   ],
   "source": [
    "#splitting the data set into input and output attributes\n",
    "x_attributes_trainingsample=trainingsample[:,0:-1]\n",
    "y_attributes_trainingsample=trainingsample[:,-1]\n",
    "print('input attributes')\n",
    "print(x_attributes_trainingsample)\n",
    "print('output attributes')\n",
    "print(y_attributes_trainingsample)\n"
   ]
  },
  {
   "cell_type": "code",
   "execution_count": 12,
   "id": "7804412d-b3e4-409f-a708-5d3350a40eb8",
   "metadata": {},
   "outputs": [
    {
     "name": "stdout",
     "output_type": "stream",
     "text": [
      "[[0.000e+00 0.000e+00 0.000e+00 ... 1.633e-03 9.992e-01 8.163e-04]\n",
      " [6.105e-04 6.105e-04 6.105e-04 ... 6.105e-04 1.000e+00 6.105e-04]\n",
      " [5.741e-03 0.000e+00 0.000e+00 ... 2.870e-03 9.960e-01 0.000e+00]\n",
      " ...\n",
      " [8.898e-01 0.000e+00 0.000e+00 ... 8.925e-04 4.560e-01 8.925e-04]\n",
      " [9.054e-01 0.000e+00 0.000e+00 ... 0.000e+00 4.246e-01 9.072e-04]\n",
      " [5.272e-01 0.000e+00 0.000e+00 ... 0.000e+00 8.497e-01 5.278e-04]]\n"
     ]
    }
   ],
   "source": [
    "#normalising the dataset to ensure fair comparison between attributes and remove outliers\n",
    "\n",
    "\n",
    "from numpy import set_printoptions\n",
    "from sklearn import preprocessing\n",
    "normalised_x_attributes_trainingsample=preprocessing.normalize(x_attributes_trainingsample)\n",
    "set_printoptions(precision=3)\n",
    "print(normalised_x_attributes_trainingsample)"
   ]
  },
  {
   "cell_type": "code",
   "execution_count": 13,
   "id": "5b9233df-216d-4b20-89cb-9e6db7b9842c",
   "metadata": {},
   "outputs": [
    {
     "name": "stdout",
     "output_type": "stream",
     "text": [
      "[[-0.458 -0.14 ]\n",
      " [-0.459 -0.138]\n",
      " [-0.452 -0.139]\n",
      " ...\n",
      " [ 0.575 -0.004]\n",
      " [ 0.607 -0.019]\n",
      " [ 0.046  0.075]]\n"
     ]
    }
   ],
   "source": [
    "#compress the data into two attributes only\n",
    "\n",
    "\n",
    "from sklearn.decomposition import PCA\n",
    "pca=PCA(n_components=2)\n",
    "pca.fit(normalised_x_attributes_trainingsample)\n",
    "compressed_array=pca.transform(normalised_x_attributes_trainingsample)\n",
    "print(compressed_array)\n"
   ]
  },
  {
   "cell_type": "code",
   "execution_count": 14,
   "id": "b41c61a3-a5c2-4bdd-8383-7d077a3f97c3",
   "metadata": {},
   "outputs": [
    {
     "name": "stdout",
     "output_type": "stream",
     "text": [
      "cluster centroids\n",
      "[[-0.301 -0.042]\n",
      " [ 0.66  -0.07 ]\n",
      " [ 0.06   0.067]]\n",
      "cluster assignments\n",
      "[0 0 0 0 0 0 0 0 0 0 0 0 0 0 0 0 0 0 0 0 0 0 0 0 0 0 0 0 0 0 0 0 0 0 0 0 0\n",
      " 0 0 0 0 0 0 0 0 0 0 2 0 0 0 0 0 0 0 1 0 0 0 0 0 0 0 0 0 0 0 0 0 0 0 2 0 0\n",
      " 0 0 0 0 0 0 0 0 0 0 0 0 0 0 0 0 0 0 2 0 0 0 0 0 0 0 0 0 0 0 0 0 0 0 0 0 0\n",
      " 0 0 0 0 0 0 0 0 0 0 0 1 0 0 0 2 0 0 0 0 0 2 0 0 0 0 0 0 0 0 0 0 0 0 0 0 0\n",
      " 0 0 0 0 0 0 0 0 0 2 0 2 0 0 0 0 0 0 0 0 0 0 0 0 0 0 0 0 0 0 0 0 0 0 2 0 0\n",
      " 0 0 2 0 0 0 0 0 0 0 0 0 0 0 0 0 1 0 2 2 0 0 0 0 0 0 0 0 0 0 2 0 0 2 0 1 2\n",
      " 2 0 0 0 0 0 2 0 0 0 0 1 2 0 0 0 0 0 2 0 0 2 0 2 0 0 0 2 0 0 0 0 0 0 2 0 0\n",
      " 0 2 0 0 0 1 0 0 0 0 2 0 0 0 0 0 0 0 2 0 0 0 0 2 0 0 0 0 0 0 0 2 0 0 0 0 0\n",
      " 0 1 0 0 1 0 2 0 0 0 2 1 2 1 2 0 0 1 2 0 1 0 2 2 0 2 0 0 2 2 0 0 0 2 0 0 0\n",
      " 0 0 0 2 2 0 1 0 2 0 0 0 2 2 2 2 0 2 2 0 0 0 1 0 0 2 2 0 0 0 2 1 2 0 0 0 0\n",
      " 0 0 2 0 0 0 2 2 0 2 2 0 2 2 2 2 2 0 0 2 0 2 0 2 0 0 0 0 0 0 2 2 0 1 0 2 2\n",
      " 2 0 0 2 0 0 2 2 0 1 0 0 2 0 2 1 0 0 2 2 0 1 1 0 0 0 2 2 2 1 0 1 1 0 2 2 1\n",
      " 0 1 2 0 0 0 0 2 2 0 0 0 0 2 2 0 0 2 0 2 2 0 1 0 2 2 0 1 1 0 2 2 0 0 2 2 2\n",
      " 2 0 0 0 0 0 0 1 2 2 0 2 2 1 2 0 2 1 0 2 0 0 2 2 1 0 0 2 0 1 0 2 1 2 2 1 0\n",
      " 2 2 0 2 0 0 1 0 2 1 2 1 2 0 2 2 2 2 0 0 0 2 2 2 0 2 1 2 2 2 1 0 1 2 0 2 0\n",
      " 2 0 0 2 1 2 1 2 0 0 2 2 0 0 0 1 0 0 1 1 2 2 2 2 1 2 2 2 1 0 2 2 1 1 2 1 2\n",
      " 2 1 2 1 2 2 2 2 2 2 1 0 2 2 0 0 2 2 2 2 0 2 2 0 0 2 2 1 2 2 2 2 2 2 2 2 0\n",
      " 2 2 2 2 2 1 2 2 0 2 2 1 1 0 2 2 0 2 2 2 1 0 1 2 0 2 2 1 0 2 0 2 1 2 2 2 0\n",
      " 0 2 2 2 2 2 0 2 2 0 2 0 2 2 2 2 2 2 0 2 2 2 2 2 1 2 2 2 2 2 2 1 1 2 1 2 2\n",
      " 2 2 0 2 2 2 1 2 2 2 1 0 0 2 2 2 2 2 2 1 2 2 2 2 2 0 2 2 1 1 2 2 1 0 2 0 2\n",
      " 2 1 2 2 0 1 2 1 2 2 2 1 1 2 2 2 1 2 1 1 2 2 1 0 2 1 1 2 2 1 2 2 2 2 2 1 2\n",
      " 2 2 2 2 2 1 1 2 2 2 2 2 2 2 2 1 2 2 2 2 1 2 1 2 1 2 1 2 2 1 2 2 1 1 1 2 2\n",
      " 2 2 2 1 2 1 1 2 2 1 2 1 2 2 2 2 2 1 2 2 1 2 1 1 2 2 2 1 1 2 2 2 2 1 2 1 2\n",
      " 2 1 1 2 2 2 2 2 2 2 1 2 2 1 2 2 2 2 1 2 2 2 1 1 2 2 2 2 2 2 2 2 1 2 2 2 2\n",
      " 2 2 2 2 1 2 1 2 2 2 1 2 2 2 2 2 2 2 1 2 2 1 2 2 2 2 2 2 2 2 2 2 1 2 1 2 2\n",
      " 1 1 2 2 1 1 2 1 2 1 2 1 2 2 2 2 1 1 1 2 2 2 2 1 2 1 1 2 2 2 2 2 1 1 2 1 2\n",
      " 2 2 1 2 2 2 2 1 2 2 1 2 2 2 2 2 1 2 2 2 2 2 1 1 2 2 2 1 1 1 1 2 2 1 2 1 1\n",
      " 2]\n"
     ]
    }
   ],
   "source": [
    "#applying KMeans algorith to create clusters\n",
    "\n",
    "#create an instance of k-means\n",
    "from sklearn.cluster import KMeans\n",
    "\n",
    "# to ignore warnings\n",
    "import warnings\n",
    "warnings.filterwarnings(\"ignore\")\n",
    "kmeansalgorithm=KMeans(n_clusters=3)\n",
    "\n",
    "#train the algorithm to discover clusters\n",
    "kmeansalgorithm.fit(compressed_array)\n",
    "\n",
    "#to extract centroids from the dicsovered clusters\n",
    "centroids=kmeansalgorithm.cluster_centers_\n",
    "\n",
    "#to extract cluster assignments or labels\n",
    "cluster_assignments=kmeansalgorithm.labels_\n",
    "\n",
    "print('cluster centroids')\n",
    "print(centroids)\n",
    "\n",
    "print('cluster assignments')\n",
    "print(cluster_assignments)\n"
   ]
  },
  {
   "cell_type": "code",
   "execution_count": 15,
   "id": "bdced82f-356b-40f2-b683-66b3e7fec466",
   "metadata": {},
   "outputs": [
    {
     "data": {
      "text/plain": [
       "<matplotlib.collections.PathCollection at 0x2235eba0>"
      ]
     },
     "execution_count": 15,
     "metadata": {},
     "output_type": "execute_result"
    },
    {
     "data": {
      "image/png": "[encoded data removed]",
      "text/plain": [
       "<Figure size 640x480 with 1 Axes>"
      ]
     },
     "metadata": {},
     "output_type": "display_data"
    }
   ],
   "source": [
    "#visualise the clusters\n",
    "import matplotlib.pyplot as plt\n",
    "from matplotlib import style\n",
    "style.use('ggplot')\n",
    "plt.scatter(compressed_array[:,0],compressed_array[:,1],c=kmeansalgorithm.labels_,cmap='rainbow')\n",
    "plt.scatter(centroids[:,0],centroids[:,1],marker='v',color='g')\n",
    "\n"
   ]
  },
  {
   "cell_type": "code",
   "execution_count": null,
   "id": "0c6eae5a-9742-4c2d-a7a1-9c694fbfe950",
   "metadata": {},
   "outputs": [],
   "source": []
  }
 ],
 "metadata": {
  "kernelspec": {
   "display_name": "Python 3 (ipykernel)",
   "language": "python",
   "name": "python3"
  },
  "language_info": {
   "codemirror_mode": {
    "name": "ipython",
    "version": 3
   },
   "file_extension": ".py",
   "mimetype": "text/x-python",
   "name": "python",
   "nbconvert_exporter": "python",
   "pygments_lexer": "ipython3",
   "version": "3.12.6"
  }
 },
 "nbformat": 4,
 "nbformat_minor": 5
}
